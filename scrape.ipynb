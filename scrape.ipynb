{
 "cells": [
  {
   "cell_type": "code",
   "execution_count": 1,
   "id": "b18d5cd5-7a15-48ba-bb8d-3fb1cd2e9a68",
   "metadata": {},
   "outputs": [],
   "source": [
    "import aiohttp\n",
    "import asyncio\n",
    "from bs4 import BeautifulSoup\n",
    "from tqdm.asyncio import tqdm\n",
    "import json"
   ]
  },
  {
   "cell_type": "code",
   "execution_count": 2,
   "id": "c44335d3-ca6f-48eb-a5ec-6d4d8deadb17",
   "metadata": {},
   "outputs": [],
   "source": [
    "async def fetch(session, url, retries=3):\n",
    "    for attempt in range(retries):\n",
    "        try:\n",
    "            async with session.get(url, timeout=aiohttp.ClientTimeout(total=60)) as response:\n",
    "                response.raise_for_status()\n",
    "                return await response.text()\n",
    "        except aiohttp.ClientError as e:\n",
    "            print(f\"Error fetching {url}, attempt {attempt + 1}/{retries}: {e}\")\n",
    "            await asyncio.sleep(2)  # Wait before retrying\n",
    "    return None"
   ]
  },
  {
   "cell_type": "code",
   "execution_count": 3,
   "id": "c3d451fe-6bf6-409c-aacd-42c822db4f1f",
   "metadata": {},
   "outputs": [],
   "source": [
    "async def scrape_content(session, url):\n",
    "    html_content = await fetch(session, url)\n",
    "    if html_content:\n",
    "        soup = BeautifulSoup(html_content, 'html.parser')\n",
    "\n",
    "        title_tag = soup.find('h1', class_='kingster-page-title')\n",
    "        title = title_tag.get_text(strip=True) if title_tag else \"No title found\"\n",
    "\n",
    "        about_me_div = soup.find('div', class_='kingster-content-wrap kingster-item-pdlr clearfix')\n",
    "        body = about_me_div.get_text(strip=True) if about_me_div else \"No content found in 'resume-body' div.\"\n",
    "\n",
    "        return {'url': url, 'title': title, 'body': body}\n",
    "    return {'url': url, 'title': 'Failed to fetch', 'body': 'Failed to fetch'}"
   ]
  },
  {
   "cell_type": "code",
   "execution_count": 4,
   "id": "2584f2c4-d8c5-4d2e-90bb-aa69b5905be8",
   "metadata": {},
   "outputs": [],
   "source": [
    "async def main():\n",
    "    results = []\n",
    "\n",
    "    with open('links-umexpert-modified.txt', 'r') as file:\n",
    "        urls = [url.strip() for url in file.readlines()]\n",
    "\n",
    "    async with aiohttp.ClientSession() as session:\n",
    "        tasks = [scrape_content(session, url) for url in urls]\n",
    "        for content in tqdm(asyncio.as_completed(tasks), desc='Scraping URLs', total=len(urls)):\n",
    "            result = await content\n",
    "            results.append(result)\n",
    "\n",
    "    with open('umexpert-scraped1.json', 'w') as outfile:\n",
    "        json.dump(results, outfile, indent=2)"
   ]
  },
  {
   "cell_type": "code",
   "execution_count": 5,
   "id": "bf2ae3cf-0d4a-47f0-92b2-b87e70d92afc",
   "metadata": {},
   "outputs": [
    {
     "ename": "RuntimeError",
     "evalue": "asyncio.run() cannot be called from a running event loop",
     "output_type": "error",
     "traceback": [
      "\u001b[1;31m---------------------------------------------------------------------------\u001b[0m",
      "\u001b[1;31mRuntimeError\u001b[0m                              Traceback (most recent call last)",
      "Cell \u001b[1;32mIn[5], line 1\u001b[0m\n\u001b[1;32m----> 1\u001b[0m \u001b[43masyncio\u001b[49m\u001b[38;5;241;43m.\u001b[39;49m\u001b[43mrun\u001b[49m\u001b[43m(\u001b[49m\u001b[43mmain\u001b[49m\u001b[43m(\u001b[49m\u001b[43m)\u001b[49m\u001b[43m)\u001b[49m\n",
      "File \u001b[1;32mC:\\Program Files\\Python311\\Lib\\asyncio\\runners.py:186\u001b[0m, in \u001b[0;36mrun\u001b[1;34m(main, debug)\u001b[0m\n\u001b[0;32m    161\u001b[0m \u001b[38;5;250m\u001b[39m\u001b[38;5;124;03m\"\"\"Execute the coroutine and return the result.\u001b[39;00m\n\u001b[0;32m    162\u001b[0m \n\u001b[0;32m    163\u001b[0m \u001b[38;5;124;03mThis function runs the passed coroutine, taking care of\u001b[39;00m\n\u001b[1;32m   (...)\u001b[0m\n\u001b[0;32m    182\u001b[0m \u001b[38;5;124;03m    asyncio.run(main())\u001b[39;00m\n\u001b[0;32m    183\u001b[0m \u001b[38;5;124;03m\"\"\"\u001b[39;00m\n\u001b[0;32m    184\u001b[0m \u001b[38;5;28;01mif\u001b[39;00m events\u001b[38;5;241m.\u001b[39m_get_running_loop() \u001b[38;5;129;01mis\u001b[39;00m \u001b[38;5;129;01mnot\u001b[39;00m \u001b[38;5;28;01mNone\u001b[39;00m:\n\u001b[0;32m    185\u001b[0m     \u001b[38;5;66;03m# fail fast with short traceback\u001b[39;00m\n\u001b[1;32m--> 186\u001b[0m     \u001b[38;5;28;01mraise\u001b[39;00m \u001b[38;5;167;01mRuntimeError\u001b[39;00m(\n\u001b[0;32m    187\u001b[0m         \u001b[38;5;124m\"\u001b[39m\u001b[38;5;124masyncio.run() cannot be called from a running event loop\u001b[39m\u001b[38;5;124m\"\u001b[39m)\n\u001b[0;32m    189\u001b[0m \u001b[38;5;28;01mwith\u001b[39;00m Runner(debug\u001b[38;5;241m=\u001b[39mdebug) \u001b[38;5;28;01mas\u001b[39;00m runner:\n\u001b[0;32m    190\u001b[0m     \u001b[38;5;28;01mreturn\u001b[39;00m runner\u001b[38;5;241m.\u001b[39mrun(main)\n",
      "\u001b[1;31mRuntimeError\u001b[0m: asyncio.run() cannot be called from a running event loop"
     ]
    }
   ],
   "source": [
    "asyncio.run(main())"
   ]
  },
  {
   "cell_type": "code",
   "execution_count": null,
   "id": "feaed64a-0021-4625-ab84-fd59044458ed",
   "metadata": {},
   "outputs": [],
   "source": []
  }
 ],
 "metadata": {
  "kernelspec": {
   "display_name": "Python 3 (ipykernel)",
   "language": "python",
   "name": "python3"
  },
  "language_info": {
   "codemirror_mode": {
    "name": "ipython",
    "version": 3
   },
   "file_extension": ".py",
   "mimetype": "text/x-python",
   "name": "python",
   "nbconvert_exporter": "python",
   "pygments_lexer": "ipython3",
   "version": "3.11.4"
  }
 },
 "nbformat": 4,
 "nbformat_minor": 5
}
