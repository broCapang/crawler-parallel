{
 "cells": [
  {
   "cell_type": "code",
   "execution_count": 8,
   "id": "4fd3805e-1e2e-4362-9a85-ce7f21767f81",
   "metadata": {},
   "outputs": [],
   "source": [
    "import requests\n",
    "from bs4 import BeautifulSoup\n",
    "from urllib.parse import urljoin, urlparse\n",
    "import os\n",
    "import time\n",
    "from tqdm import tqdm\n"
   ]
  },
  {
   "cell_type": "code",
   "execution_count": 11,
   "id": "4db1e87b-da46-4502-bf42-c1d794615148",
   "metadata": {},
   "outputs": [],
   "source": [
    "# Define the base URL for the specific pages to crawl\n",
    "similar_url = 'https://um.edu.my/news/indexnews.php?year='\n",
    "years = range(2013, 2025)  # From 2013 to 2024\n",
    "base_url='https://um.edu.my/news/'\n",
    "# Generate the list of URLs to start crawling from\n",
    "urls = [f\"{similar_url}{year}\" for year in years]\n",
    "visited_url = set()\n",
    "failed_url = set()"
   ]
  },
  {
   "cell_type": "code",
   "execution_count": 12,
   "id": "f74b4822-3144-4943-a620-3b4e3f4b3744",
   "metadata": {},
   "outputs": [
    {
     "data": {
      "text/plain": [
       "['https://um.edu.my/news/indexnews.php?year=2013',\n",
       " 'https://um.edu.my/news/indexnews.php?year=2014',\n",
       " 'https://um.edu.my/news/indexnews.php?year=2015',\n",
       " 'https://um.edu.my/news/indexnews.php?year=2016',\n",
       " 'https://um.edu.my/news/indexnews.php?year=2017',\n",
       " 'https://um.edu.my/news/indexnews.php?year=2018',\n",
       " 'https://um.edu.my/news/indexnews.php?year=2019',\n",
       " 'https://um.edu.my/news/indexnews.php?year=2020',\n",
       " 'https://um.edu.my/news/indexnews.php?year=2021',\n",
       " 'https://um.edu.my/news/indexnews.php?year=2022',\n",
       " 'https://um.edu.my/news/indexnews.php?year=2023',\n",
       " 'https://um.edu.my/news/indexnews.php?year=2024']"
      ]
     },
     "execution_count": 12,
     "metadata": {},
     "output_type": "execute_result"
    }
   ],
   "source": [
    "urls"
   ]
  },
  {
   "cell_type": "code",
   "execution_count": 13,
   "id": "bca18e09-ce2d-42d1-8d83-3c38600ef485",
   "metadata": {},
   "outputs": [],
   "source": [
    "def has_no_extension(url):\n",
    "    path = urlparse(url).path\n",
    "    return os.path.splitext(path)[1] == \"\""
   ]
  },
  {
   "cell_type": "code",
   "execution_count": 14,
   "id": "3326ee93-20cc-4d98-b4e1-53d30a149e15",
   "metadata": {},
   "outputs": [
    {
     "name": "stderr",
     "output_type": "stream",
     "text": [
      "Crawling:   7%|████▊                                                                    | 3/46 [00:03<00:05,  8.18it/s]"
     ]
    },
    {
     "name": "stdout",
     "output_type": "stream",
     "text": [
      "Error fetching or processing the page: 404 Client Error: Not Found for url: https://um.edu.my/news/um-services\n"
     ]
    },
    {
     "name": "stderr",
     "output_type": "stream",
     "text": [
      "Crawling:   9%|██████▎                                                                  | 4/46 [00:03<00:14,  2.81it/s]"
     ]
    },
    {
     "name": "stdout",
     "output_type": "stream",
     "text": [
      "Error fetching or processing the page: 404 Client Error: Not Found for url: https://um.edu.my/news/office-directory-academic\n"
     ]
    },
    {
     "name": "stderr",
     "output_type": "stream",
     "text": [
      "Crawling:  11%|███████▉                                                                 | 5/46 [00:04<00:20,  1.96it/s]"
     ]
    },
    {
     "name": "stdout",
     "output_type": "stream",
     "text": [
      "Error fetching or processing the page: 404 Client Error: Not Found for url: https://um.edu.my/news/um-fact-sheet\n"
     ]
    },
    {
     "name": "stderr",
     "output_type": "stream",
     "text": [
      "Crawling:  15%|███████████                                                              | 7/46 [00:05<00:18,  2.11it/s]"
     ]
    },
    {
     "name": "stdout",
     "output_type": "stream",
     "text": [
      "Error fetching or processing the page: 404 Client Error: Not Found for url: https://um.edu.my/news/history\n",
      "Error fetching or processing the page: 404 Client Error: Not Found for url: https://um.edu.my/news/vision-amp-mission\n"
     ]
    },
    {
     "name": "stderr",
     "output_type": "stream",
     "text": [
      "Crawling:  17%|████████████▋                                                            | 8/46 [00:06<00:21,  1.74it/s]"
     ]
    },
    {
     "name": "stdout",
     "output_type": "stream",
     "text": [
      "Error fetching or processing the page: 404 Client Error: Not Found for url: https://um.edu.my/news/alumni\n"
     ]
    },
    {
     "name": "stderr",
     "output_type": "stream",
     "text": [
      "Crawling:  20%|██████████████▎                                                          | 9/46 [00:07<00:24,  1.53it/s]"
     ]
    },
    {
     "name": "stdout",
     "output_type": "stream",
     "text": [
      "Error fetching or processing the page: 404 Client Error: Not Found for url: https://um.edu.my/news/staff\n"
     ]
    },
    {
     "name": "stderr",
     "output_type": "stream",
     "text": [
      "Crawling:  22%|███████████████▋                                                        | 10/46 [00:08<00:25,  1.40it/s]"
     ]
    },
    {
     "name": "stdout",
     "output_type": "stream",
     "text": [
      "Error fetching or processing the page: 404 Client Error: Not Found for url: https://um.edu.my/news/student\n"
     ]
    },
    {
     "name": "stderr",
     "output_type": "stream",
     "text": [
      "Crawling:  74%|█████████████████████████████████████████████████████▏                  | 34/46 [00:30<00:09,  1.27it/s]"
     ]
    },
    {
     "name": "stdout",
     "output_type": "stream",
     "text": [
      "Error fetching or processing the page: 403 Client Error: Forbidden for url: https://um.edu.my/news/\n"
     ]
    },
    {
     "name": "stderr",
     "output_type": "stream",
     "text": [
      "Crawling:  76%|██████████████████████████████████████████████████████▊                 | 35/46 [00:30<00:08,  1.25it/s]"
     ]
    },
    {
     "name": "stdout",
     "output_type": "stream",
     "text": [
      "Error fetching or processing the page: 403 Client Error: Forbidden for url: https://um.edu.my/news/#kingster-mobile-menu\n"
     ]
    },
    {
     "name": "stderr",
     "output_type": "stream",
     "text": [
      "Crawling:  90%|██████████████████████████████████████████████████████████████▊       | 139/155 [02:10<00:13,  1.22it/s]"
     ]
    },
    {
     "name": "stdout",
     "output_type": "stream",
     "text": [
      "Error fetching or processing the page: 403 Client Error: Forbidden for url: https://um.edu.my/news/#%5B1%5D\n"
     ]
    },
    {
     "name": "stderr",
     "output_type": "stream",
     "text": [
      "Crawling:  83%|██████████████████████████████████████████████████████████▍           | 172/206 [02:50<00:47,  1.39s/it]"
     ]
    },
    {
     "name": "stdout",
     "output_type": "stream",
     "text": [
      "Error fetching or processing the page: 404 Client Error: Not Found for url: https://um.edu.my/news/uma-euro-trade-s-social-wellbeing-research-centre-launches-book-on-redefining-the-meaning-of-retirement\n"
     ]
    },
    {
     "name": "stderr",
     "output_type": "stream",
     "text": [
      "Crawling:  90%|██████████████████████████████████████████████████████████████▊       | 185/206 [03:02<00:20,  1.01it/s]"
     ]
    },
    {
     "name": "stdout",
     "output_type": "stream",
     "text": [
      "Error fetching or processing the page: 404 Client Error: Not Found for url: https://um.edu.my/news/la-euro-trade-ora-copy-al-unesco-for-women-in-science-national-fellowship-to-award-inspiring-women-scientists-of-tomorrow\n"
     ]
    },
    {
     "name": "stderr",
     "output_type": "stream",
     "text": [
      "Crawling:  92%|████████████████████████████████████████████████████████████████▌     | 190/206 [03:08<00:17,  1.10s/it]"
     ]
    },
    {
     "name": "stdout",
     "output_type": "stream",
     "text": [
      "Error fetching or processing the page: 404 Client Error: Not Found for url: https://um.edu.my/news/um-johns-hopkins-berman-institute-of-bioethics-host-public-conference-a-euro-tilde-getting-the-ethics-of-genome-editing-right-engaging-multiple-perspectivea-euro-trade\n"
     ]
    },
    {
     "name": "stderr",
     "output_type": "stream",
     "text": [
      "Crawling:  84%|██████████████████████████████████████████████████████████▌           | 206/246 [03:24<00:30,  1.31it/s]"
     ]
    },
    {
     "name": "stdout",
     "output_type": "stream",
     "text": [
      "Error fetching or processing the page: 404 Client Error: Not Found for url: https://um.edu.my/news/uma-euro-trade-s-spin-off-flexilicate-joins-hand-with-dura-mine-to-collaborate-on-optical-fibre-manufacturing\n"
     ]
    },
    {
     "name": "stderr",
     "output_type": "stream",
     "text": [
      "Crawling:  88%|█████████████████████████████████████████████████████████████▍        | 216/246 [03:31<00:22,  1.35it/s]"
     ]
    },
    {
     "name": "stdout",
     "output_type": "stream",
     "text": [
      "Error fetching or processing the page: 404 Client Error: Not Found for url: https://um.edu.my/news/um-mcmh-advocate-mena-euro-trade-s-health\n"
     ]
    },
    {
     "name": "stderr",
     "output_type": "stream",
     "text": [
      "Crawling:  93%|█████████████████████████████████████████████████████████████████▍    | 230/246 [03:44<00:12,  1.29it/s]"
     ]
    },
    {
     "name": "stdout",
     "output_type": "stream",
     "text": [
      "Error fetching or processing the page: 404 Client Error: Not Found for url: https://um.edu.my/news/um-food-microbiologist-receives-la-euro-trade-oreal-unesco-for-women-in-science-award\n"
     ]
    },
    {
     "name": "stderr",
     "output_type": "stream",
     "text": [
      "Crawling:  88%|█████████████████████████████████████████████████████████████▊        | 249/282 [04:04<00:34,  1.05s/it]"
     ]
    },
    {
     "name": "stdout",
     "output_type": "stream",
     "text": [
      "Error fetching or processing the page: 404 Client Error: Not Found for url: https://um.edu.my/news/book-distribution-ceremony-under-the-a-euro-tilde-books-for-asiaa-euro-trade-programme-and-inpumaa-euro-trade-s-aidilfitri-gathering\n"
     ]
    },
    {
     "name": "stderr",
     "output_type": "stream",
     "text": [
      "Crawling:  92%|████████████████████████████████████████████████████████████████▌     | 260/282 [04:13<00:15,  1.45it/s]"
     ]
    },
    {
     "name": "stdout",
     "output_type": "stream",
     "text": [
      "Error fetching or processing the page: 404 Client Error: Not Found for url: https://um.edu.my/news/yb-dato-sri-dr-haji-wan-junaidi-tuanku-jaafar-delivers-lecture-at-syarahan-zaa-euro-trade-ba-2017\n"
     ]
    },
    {
     "name": "stderr",
     "output_type": "stream",
     "text": [
      "Crawling:  94%|█████████████████████████████████████████████████████████████████▌    | 264/282 [04:14<00:09,  1.85it/s]"
     ]
    },
    {
     "name": "stdout",
     "output_type": "stream",
     "text": [
      "Error fetching or processing the page: 404 Client Error: Not Found for url: https://um.edu.my/news/ummc-kicks-off-breast-cancer-awareness-month-through-a-euro-oelig-show-you-care-be-awarea-euro-breast-cancer-campaign\n"
     ]
    },
    {
     "name": "stderr",
     "output_type": "stream",
     "text": [
      "Crawling:  98%|████████████████████████████████████████████████████████████████████▌ | 276/282 [04:25<00:04,  1.40it/s]"
     ]
    },
    {
     "name": "stdout",
     "output_type": "stream",
     "text": [
      "Error fetching or processing the page: 404 Client Error: Not Found for url: https://um.edu.my/news/setting-record-for-malaysiaa-euro-trade-s-longest-concrete-canoe-at-malaysian-concrete-canoe-competition-2017\n"
     ]
    },
    {
     "name": "stderr",
     "output_type": "stream",
     "text": [
      "Crawling:  89%|██████████████████████████████████████████████████████████████▏       | 285/321 [04:38<00:37,  1.05s/it]"
     ]
    },
    {
     "name": "stdout",
     "output_type": "stream",
     "text": [
      "Error fetching or processing the page: 404 Client Error: Not Found for url: https://um.edu.my/news/a-euro-tilde-sancheza-euro-trade-guns-down-labyrinth-111-in-style\n"
     ]
    },
    {
     "name": "stderr",
     "output_type": "stream",
     "text": [
      "Crawling:  89%|██████████████████████████████████████████████████████████████▎       | 286/321 [04:38<00:34,  1.02it/s]"
     ]
    },
    {
     "name": "stdout",
     "output_type": "stream",
     "text": [
      "Error fetching or processing the page: 404 Client Error: Not Found for url: https://um.edu.my/news/watt-da-euro-trade-or-award-exhibition\n"
     ]
    },
    {
     "name": "stderr",
     "output_type": "stream",
     "text": [
      "Crawling:  91%|███████████████████████████████████████████████████████████████▍      | 291/321 [04:44<00:31,  1.04s/it]"
     ]
    },
    {
     "name": "stdout",
     "output_type": "stream",
     "text": [
      "Error fetching or processing the page: 404 Client Error: Not Found for url: https://um.edu.my/news/modern-flashback-a-euro-ldquo-scoot-sound-and-style-modxibition\n"
     ]
    },
    {
     "name": "stderr",
     "output_type": "stream",
     "text": [
      "Crawling:  93%|████████████████████████████████████████████████████████████████▉     | 298/321 [04:50<00:16,  1.42it/s]"
     ]
    },
    {
     "name": "stdout",
     "output_type": "stream",
     "text": [
      "Error fetching or processing the page: 404 Client Error: Not Found for url: https://um.edu.my/news/textile-tales-of-pua-kumbu-a-euro-ldquo-a-polysensory-intermedia-exhibition\n"
     ]
    },
    {
     "name": "stderr",
     "output_type": "stream",
     "text": [
      "Crawling:  94%|█████████████████████████████████████████████████████████████████▋    | 301/321 [04:53<00:18,  1.10it/s]"
     ]
    },
    {
     "name": "stdout",
     "output_type": "stream",
     "text": [
      "Error fetching or processing the page: 404 Client Error: Not Found for url: https://um.edu.my/news/uncovering-the-secrets-of-cultivating-naturea-euro-trade-s-a-euro-tilde-red-golda-euro\n"
     ]
    },
    {
     "name": "stderr",
     "output_type": "stream",
     "text": [
      "Crawling:  96%|███████████████████████████████████████████████████████████████████▍  | 309/321 [05:01<00:11,  1.02it/s]"
     ]
    },
    {
     "name": "stdout",
     "output_type": "stream",
     "text": [
      "Error fetching or processing the page: 404 Client Error: Not Found for url: https://um.edu.my/news/rousing-welcome-for-university-of-malayaa-euro-trade-s-springboard-hero\n"
     ]
    },
    {
     "name": "stderr",
     "output_type": "stream",
     "text": [
      "Crawling:  99%|█████████████████████████████████████████████████████████████████████▏| 317/321 [05:09<00:04,  1.05s/it]"
     ]
    },
    {
     "name": "stdout",
     "output_type": "stream",
     "text": [
      "Error fetching or processing the page: 404 Client Error: Not Found for url: https://um.edu.my/news/korea-corner-a-euro-ldquo-an-attractive-cozy-and-resourceful-place-about-korea\n"
     ]
    },
    {
     "name": "stderr",
     "output_type": "stream",
     "text": [
      "Crawling:  90%|███████████████████████████████████████████████████████████████▏      | 326/361 [05:19<00:36,  1.05s/it]"
     ]
    },
    {
     "name": "stdout",
     "output_type": "stream",
     "text": [
      "Error fetching or processing the page: 404 Client Error: Not Found for url: https://um.edu.my/news/tham-kuen-wei-ngoi-eva-sapu-bersih-pertandingan-a-euro-oelig-international-feasibility-studya-euro\n"
     ]
    },
    {
     "name": "stderr",
     "output_type": "stream",
     "text": [
      "Crawling:  98%|████████████████████████████████████████████████████████████████████▋ | 354/361 [05:41<00:05,  1.23it/s]"
     ]
    },
    {
     "name": "stdout",
     "output_type": "stream",
     "text": [
      "Error fetching or processing the page: 404 Client Error: Not Found for url: https://um.edu.my/news/a-euro-oelig-travel-fitness-asia-with-dee-deea-euro-gabung-konsep-melancong-aktiviti-kecergasan-dan-terokai-makanan\n"
     ]
    },
    {
     "name": "stderr",
     "output_type": "stream",
     "text": [
      "Crawling:  99%|█████████████████████████████████████████████████████████████████████▍| 358/361 [05:46<00:02,  1.00it/s]"
     ]
    },
    {
     "name": "stdout",
     "output_type": "stream",
     "text": [
      "Error fetching or processing the page: 404 Client Error: Not Found for url: https://um.edu.my/news/um-5gb-wifi-quota-an-a-euro-oelig-upgradea-euro-from-current-3gb\n"
     ]
    },
    {
     "name": "stderr",
     "output_type": "stream",
     "text": [
      "Crawling: 100%|██████████████████████████████████████████████████████████████████████| 362/362 [05:49<00:00,  1.04it/s]\n"
     ]
    },
    {
     "ename": "TypeError",
     "evalue": "unsupported operand type(s) for -: 'float' and 'str'",
     "output_type": "error",
     "traceback": [
      "\u001b[1;31m---------------------------------------------------------------------------\u001b[0m",
      "\u001b[1;31mTypeError\u001b[0m                                 Traceback (most recent call last)",
      "Cell \u001b[1;32mIn[14], line 27\u001b[0m\n\u001b[0;32m     23\u001b[0m             \u001b[38;5;28mprint\u001b[39m(\u001b[38;5;124mf\u001b[39m\u001b[38;5;124m\"\u001b[39m\u001b[38;5;124mError fetching or processing the page: \u001b[39m\u001b[38;5;132;01m{\u001b[39;00me\u001b[38;5;132;01m}\u001b[39;00m\u001b[38;5;124m\"\u001b[39m)\n\u001b[0;32m     25\u001b[0m         pbar\u001b[38;5;241m.\u001b[39mupdate(\u001b[38;5;241m1\u001b[39m)\n\u001b[1;32m---> 27\u001b[0m \u001b[38;5;28mprint\u001b[39m(\u001b[38;5;124mf\u001b[39m\u001b[38;5;124m\"\u001b[39m\u001b[38;5;124mTime taken: \u001b[39m\u001b[38;5;132;01m{\u001b[39;00m\u001b[43mtime\u001b[49m\u001b[38;5;241;43m.\u001b[39;49m\u001b[43mtime\u001b[49m\u001b[43m(\u001b[49m\u001b[43m)\u001b[49m\u001b[38;5;250;43m \u001b[39;49m\u001b[38;5;241;43m-\u001b[39;49m\u001b[38;5;250;43m \u001b[39;49m\u001b[43mcurrent\u001b[49m\u001b[38;5;132;01m:\u001b[39;00m\u001b[38;5;124m.2f\u001b[39m\u001b[38;5;132;01m}\u001b[39;00m\u001b[38;5;124m seconds\u001b[39m\u001b[38;5;124m\"\u001b[39m)\n",
      "\u001b[1;31mTypeError\u001b[0m: unsupported operand type(s) for -: 'float' and 'str'"
     ]
    }
   ],
   "source": [
    "current = time.time()\n",
    "with tqdm(total=len(urls), desc=\"Crawling\") as pbar:\n",
    "    while urls:\n",
    "        current = urls.pop()\n",
    "        try:\n",
    "            response = requests.get(current)\n",
    "            response.raise_for_status()\n",
    "            soup = BeautifulSoup(response.text, 'html.parser')\n",
    "            visited_url.add(current)\n",
    "            for link in soup.find_all('a', href=True):\n",
    "                full_url = urljoin(base_url, link['href'])\n",
    "                if (full_url not in visited_url and\n",
    "                        full_url not in urls and\n",
    "                        full_url.startswith(base_url) and\n",
    "                        full_url not in failed_url and\n",
    "                        has_no_extension(full_url)):\n",
    "                    urls.append(full_url)\n",
    "                    pbar.total += 1\n",
    "                    pbar.update(0)  # Reset the progress bar length\n",
    "\n",
    "        except requests.RequestException as e:\n",
    "            failed_url.add(current)\n",
    "            print(f\"Error fetching or processing the page: {e}\")\n",
    "\n",
    "        pbar.update(1)\n",
    "\n",
    "print(f\"Time taken: {time.time() - current:.2f} seconds\")"
   ]
  },
  {
   "cell_type": "code",
   "execution_count": 16,
   "id": "a85133a8-a5ca-42cd-9306-87dde53c0de4",
   "metadata": {},
   "outputs": [
    {
     "data": {
      "text/plain": [
       "331"
      ]
     },
     "execution_count": 16,
     "metadata": {},
     "output_type": "execute_result"
    }
   ],
   "source": [
    "len(visited_url)"
   ]
  },
  {
   "cell_type": "code",
   "execution_count": 3,
   "id": "718629a9-ba54-470f-95a1-f0d924ea630d",
   "metadata": {},
   "outputs": [],
   "source": [
    "response = requests.get('https://um.edu.my/news/indexnews.php?year=2013')"
   ]
  },
  {
   "cell_type": "code",
   "execution_count": 4,
   "id": "57afa984-136f-452b-b43e-0ce7f6194737",
   "metadata": {},
   "outputs": [],
   "source": [
    "soup = BeautifulSoup(response.text, 'html.parser')"
   ]
  },
  {
   "cell_type": "code",
   "execution_count": 7,
   "id": "1ca55b1e-2cbd-44f7-b51f-1a316830a063",
   "metadata": {},
   "outputs": [
    {
     "name": "stdout",
     "output_type": "stream",
     "text": [
      "https://um.edu.my/index\n",
      "https://um.edu.my/news/#kingster-mobile-menu\n",
      "https://um.edu.my/news/\n",
      "https://um.edu.my/vision-amp-mission\n",
      "https://ppsg.um.edu.my/strategic-planning\n",
      "https://um.edu.my/educational-goals\n",
      "https://um.edu.my/client-charter\n",
      "https://um.edu.my/our-history\n",
      "https://um.edu.my/news/\n",
      "https://um.edu.my/chancellor-amp-pro-chancellors\n",
      "https://um.edu.my/former-vice-chancellors\n",
      "https://um.edu.my/board-of-directors\n",
      "https://um.edu.my/top-management\n",
      "https://um.edu.my/deans-amp-directors-academics\n",
      "https://um.edu.my/chancellery\n",
      "https://um.edu.my/registrar-rsquo-s-office\n",
      "https://um.edu.my/deputy-vice-chancellor-rsquo-s-office\n",
      "https://um.edu.my/bursary-main-office\n",
      "https://um.edu.my/library\n",
      "https://um.edu.my/docs/CARTA ORGANISASI UM_BI.pdf\n",
      "https://um.edu.my/news/\n",
      "https://um.edu.my/symphony-orchestra\n",
      "https://um.edu.my/botanical-gardens\n",
      "https://um.edu.my/experimental-farm\n",
      "https://um.edu.my/sustainability-um\n",
      "https://um.edu.my/community-engagement\n",
      "https://um.edu.my/treasure-um\n",
      "https://um.edu.my/enterprise-um\n",
      "https://um.edu.my/list-awards.php\n",
      "https://um.edu.my/um-fact-sheet\n",
      "https://um.edu.my/news/\n",
      "https://umlib.um.edu.my/newscut.asp?vs=?vs=en\n",
      "https://um.edu.my/calendar-events\n",
      "https://um.edu.my/um-magazine\n",
      "http://webcast.um.edu.my/streaming/\n",
      "https://um.edu.my/annual-report\n",
      "https://um.edu.my/umalaya-newsletter\n",
      "https://um.edu.my/university-gazette\n",
      "https://um.edu.my/media-statement\n",
      "https://um.edu.my/quick-reads\n",
      "https://um.edu.my/news/\n",
      "https://um.edu.my/vacancies\n",
      "https://um.edu.my/general-info-for-new-appointees\n",
      "https://um.edu.my/staff-benefits\n",
      "https://um.edu.my/news/\n",
      "https://um.edu.my/get-in-touch\n",
      "https://um.edu.my/office-directory-academic\n",
      "https://um.edu.my/campus-map\n",
      "https://um.edu.my/enquiry\n",
      "https://um.edu.my/news/\n",
      "https://um.edu.my/news/\n",
      "https://um.edu.my/admissions-bachelor\n",
      "https://um.edu.my/admissions-master\n",
      "https://um.edu.my/admissions-doctorate\n",
      "https://um.edu.my/news/\n",
      "https://um.edu.my/how-to-apply-bachelor\n",
      "https://um.edu.my/how-to-apply-master\n",
      "https://um.edu.my/how-to-apply-doctorate\n",
      "https://um.edu.my/news/\n",
      "https://um.edu.my/scholarship-amp-financial-assistance-bachelor\n",
      "https://um.edu.my/scholarship-amp-financial-assistance-master\n",
      "https://um.edu.my/scholarship-amp-financial-assistance-doctorate\n",
      "https://um.edu.my/check-application-status-bachelor\n",
      "https://um.edu.my/international-students\n",
      "https://um.edu.my/enquiry\n",
      "https://um.edu.my/news/\n",
      "https://um.edu.my/foundation\n",
      "https://um.edu.my/bachelor\n",
      "https://um.edu.my/master\n",
      "https://um.edu.my/doctorate\n",
      "http://umcced.edu.my/programme\n",
      "https://um.edu.my/news/\n",
      "https://um.edu.my/academies\n",
      "https://um.edu.my/faculties\n",
      "https://um.edu.my/institutes\n",
      "https://um.edu.my/centres\n",
      "https://um.edu.my/list-of-provisional-accredited-programmes\n",
      "https://um.edu.my/news/\n",
      "https://hep.um.edu.my/accommodation-section\n",
      "https://um.edu.my/news/\n",
      "https://aasc.um.edu.my\n",
      "https://um.edu.my/library\n",
      "https://um.edu.my/postal-services\n",
      "https://um.edu.my/financial-and-banking-services\n",
      "https://um.edu.my/um-cooperative-bookshop-ltd\n",
      "https://um.edu.my/health-services\n",
      "https://um.edu.my/perdanasiswa-complex\n",
      "https://um.edu.my/food-court-amp-catering-services\n",
      "https://um.edu.my/transportation-amp-travel\n",
      "https://um.edu.my/recreational\n",
      "https://um.edu.my/rumah-universiti\n",
      "https://ptm.um.edu.my/university-of-malaya-mobile-app\n",
      "https://um.edu.my/news/\n",
      "https://um.edu.my/career-development\n",
      "https://um.edu.my/counselling\n",
      "https://um.edu.my/student-health-clinic\n",
      "https://um.edu.my/scholahip-and-financial-assistancers\n",
      "https://um.edu.my/insurance\n",
      "https://um.edu.my/disability-management-services\n",
      "https://um.edu.my/news/\n",
      "https://um.edu.my/guidelines\n",
      "https://um.edu.my/academic-amp-examination-rules\n",
      "https://um.edu.my/university-amp-college-university-act\n",
      "https://um.edu.my/news/\n",
      "https://study.um.edu.my/\n",
      "https://umresearch.um.edu.my\n",
      "https://um.edu.my/um-services\n",
      "https://um.edu.my/news/\n",
      "https://um.edu.my/faq-visitors\n",
      "https://um.edu.my/news/\n",
      "https://um.edu.my/faq-students-general\n",
      "https://um.edu.my/faq-students-foundation\n",
      "https://um.edu.my/faq-students-bachelor\n",
      "https://um.edu.my/faq-students-master-amp-doctorate\n",
      "https://um.edu.my/faq-facilities\n",
      "https://um.edu.my/news/\n",
      "https://um.edu.my/faq-research-frgs-amp-ergs\n",
      "https://um.edu.my/faq-research-science-fund\n",
      "https://um.edu.my/faq-research-high-impact-research-grant\n",
      "https://um.edu.my/faq-research-postgraduate-research-fund\n",
      "https://um.edu.my/faq-research-patent\n",
      "https://um.edu.my/faq-research-research-assistant\n",
      "https://um.edu.my/faq-research-photonic-research-centre\n",
      "https://um.edu.my/faq-research-industrial-training\n",
      "https://um.edu.my/news/\n",
      "https://um.edu.my/faq-ict-um-mail-staff-email\n",
      "https://um.edu.my/faq-ict-um-mail-student-email\n",
      "https://um.edu.my/faq-ict-um-portal-e-services\n",
      "https://um.edu.my/faq-ict-um-wifi\n",
      "https://um.edu.my/faq-ict-spectrum\n",
      "https://um.edu.my/faq-ict-um-website\n",
      "https://um.edu.my/faq-ict-software\n",
      "https://um.edu.my/faq-ict-e-registration-undergraduate-programme\n",
      "https://um.edu.my/faq-ict-research-project-monitoring-system-rpms-rgms-finance\n",
      "https://um.edu.my/faq-ict-research-project-monitoring-system-rpms-e-grant\n",
      "https://um.edu.my/faq-ict-research-project-monitoring-system-rpms-e-monitoring\n",
      "https://um.edu.my/faq-ict-research-project-monitoring-system-rpms-ra-recruitment-system\n",
      "https://um.edu.my/faq-ict-myum\n",
      "https://um.edu.my/faq-ict-e-journal-management-system-general\n",
      "https://um.edu.my/faq-ict-e-journal-management-system-editor\n",
      "https://um.edu.my/faq-ict-e-journal-management-system-reviewer\n",
      "https://um.edu.my/faq-ict-e-journal-management-system-conference-management-system\n",
      "https://um.edu.my/news/\n",
      "https://um.edu.my/faq-eprocurement-general\n",
      "https://um.edu.my/faq-eprocurement-procurement-applicant-approver-module\n",
      "https://um.edu.my/faq-eprocurement-payment-applicant-approver-module\n",
      "https://um.edu.my/faq-eprocurement-po-approver-administrators-module\n",
      "https://um.edu.my/faq-eprocurement-general-suppliers-module\n",
      "https://um.edu.my/faq-eprocurement-registration-suppliers-module\n",
      "https://um.edu.my/faq-eprocurement-bidding-suppliers-module\n",
      "https://um.edu.my/faq-eprocurement-payment-suppliers-module\n",
      "https://www.facebook.com/UniversityOfMalaya\n",
      "http://www.youtube.com/user/UniOfMalaya\n",
      "https://twitter.com/unimalaya\n",
      "https://www.instagram.com/unimalaya\n",
      "http://study.um.edu.my\n",
      "https://um.edu.my/student\n",
      "https://um.edu.my/staff\n",
      "https://um.edu.my/alumni\n",
      "https://um.edu.my/how-to-apply-bachelor\n",
      "https://um.edu.my/index\n",
      "https://um.edu.my/news/\n",
      "https://um.edu.my/vision-amp-mission\n",
      "https://um.edu.my/news/\n",
      "https://um.edu.my/chancellor-amp-pro-chancellors\n",
      "https://um.edu.my/board-of-directors\n",
      "https://um.edu.my/top-management\n",
      "https://um.edu.my/news/\n",
      "https://um.edu.my/organizational-chart\n",
      "https://um.edu.my/chancellery\n",
      "https://um.edu.my/deputy-vice-chancellor-rsquo-s-office\n",
      "https://um.edu.my/associate-vice-chancellor-rsquo-s-office\n",
      "https://um.edu.my/registrar-rsquo-s-office\n",
      "https://um.edu.my/bursary-main-office\n",
      "https://umlib.um.edu.my/\n",
      "https://um.edu.my/deans-amp-directors-academics\n",
      "https://um.edu.my/educational-goals\n",
      "https://um.edu.my/client-charter\n",
      "https://um.edu.my/history\n",
      "https://um.edu.my/um-fact-sheet\n",
      "https://um.edu.my/news/\n",
      "https://um.edu.my/annual-report\n",
      "https://um.edu.my/umalaya-newsletter\n",
      "https://um.edu.my/news/\n",
      "https://jobs.um.edu.my/\n",
      "https://ra-recruitment.um.edu.my/\n",
      "https://um.edu.my/news/\n",
      "https://um.edu.my/office-directory-academic\n",
      "https://um.edu.my/campus-map\n",
      "https://helpdesk.um.edu.my/\n",
      "https://um.edu.my/news/\n",
      "https://study.um.edu.my/programmes.php\n",
      "https://study.um.edu.my/how-to-apply-bachelor-rsquo-s-degree\n",
      "https://um.edu.my/news/\n",
      "https://aasc.um.edu.my/scholarships-undergraduate\n",
      "https://aasc.um.edu.my/scholarships-postgraduate\n",
      "https://aasc.um.edu.my/main-international-page\n",
      "https://um.edu.my/news/\n",
      "https://um.edu.my/academies\n",
      "https://um.edu.my/faculties\n",
      "https://um.edu.my/institutes\n",
      "https://um.edu.my/centres\n",
      "https://hep.um.edu.my/\n",
      "https://umresearch.um.edu.my\n",
      "https://um.edu.my/news/\n",
      "https://aasc.um.edu.my/faq-main-page\n",
      "https://um.edu.my/faq-visitors\n",
      "https://umresearch.um.edu.my/frequently-ask-question-for-research-management-matters\n",
      "https://security.um.edu.my/frequently-asked-questions-faq\n",
      "https://bendahari.um.edu.my/faq-procurement-general\n",
      "https://um.edu.my/carian-web\n",
      "https://um.edu.my/news/\n",
      "https://um.edu.my/news/\n",
      "https://um.edu.my/news/\n",
      "https://um.edu.my/news/\n",
      "https://um.edu.my/news/\n",
      "https://um.edu.my/news/\n",
      "https://um.edu.my/news/\n",
      "https://um.edu.my/news/\n",
      "https://um.edu.my/news/\n",
      "https://um.edu.my/news/\n",
      "https://um.edu.my/news/\n",
      "https://um.edu.my/news/\n",
      "https://um.edu.my/news/\n",
      "https://um.edu.my/news/another-honour-for-bhangra-ambassador\n",
      "https://um.edu.my/news/another-honour-for-bhangra-ambassador\n",
      "https://um.edu.my/news/another-honour-for-bhangra-ambassador\n",
      "https://um.edu.my/vision-amp-mission\n",
      "https://um.edu.my/history\n",
      "https://um.edu.my/um-fact-sheet\n",
      "https://jobs.um.edu.my\n",
      "https://um.edu.my/office-directory-academic\n",
      "https://bit.ly/universitimalayafeedback\n",
      "https://study.um.edu.my/\n",
      "https://umevent.um.edu.my/\n",
      "https://um.edu.my/um-services\n",
      "https://hep.um.edu.my/\n",
      "https://sustainability.um.edu.my/\n",
      "https://it.um.edu.my\n",
      "https://hebat.um.edu.my/\n",
      "https://umpoint.um.edu.my/\n",
      "https://epay.um.edu.my/\n",
      "http://vendor.um.edu.my\n",
      "https://international.um.edu.my/visit-request-form\n",
      "https://um.edu.my/docs/student-support/UNIVERSITI MALAYA INCLUSIVE POLICY FOR PERSONS WITH DISABILITIES.pdf\n",
      "https://um.edu.my/privacy-policy/privacy-policy\n",
      "https://um.edu.my/privacy-policy/site-credits\n",
      "https://um.edu.my/privacy-policy/disclaimer\n",
      "https://um.edu.my/privacy-policy/security-policy\n",
      "https://um.edu.my/sitemap\n",
      "https://www.um.edu.my/atoz/atoz\n",
      "https://www.facebook.com/UniversityOfMalaya\n",
      "http://www.youtube.com/user/UniOfMalaya\n",
      "https://twitter.com/unimalaya\n",
      "https://www.instagram.com/unimalaya\n"
     ]
    }
   ],
   "source": [
    "base_url = 'https://um.edu.my/news/indexnews.php?year='\n",
    "for link in soup.find_all('a', href=True):\n",
    "    full_url = urljoin(base_url, link['href'])\n",
    "    for link in soup.find_all('a', href=True):\n",
    "        full_url = urljoin(base_url, link['href'])"
   ]
  },
  {
   "cell_type": "code",
   "execution_count": 17,
   "id": "6202b9cb-e33b-4e6a-8574-849569a220b8",
   "metadata": {},
   "outputs": [],
   "source": [
    "with open('links-umnnews.txt', 'w') as file:\n",
    "    for item in visited_url:\n",
    "        file.write(f\"{item}\\n\")\n"
   ]
  },
  {
   "cell_type": "code",
   "execution_count": 21,
   "id": "9210a7a8-b60a-4aba-9818-73eba2678690",
   "metadata": {},
   "outputs": [],
   "source": [
    "with open('links-umnews.txt', 'r') as file:\n",
    "    urls = [url.strip() for url in file.readlines()]"
   ]
  },
  {
   "cell_type": "code",
   "execution_count": 23,
   "id": "64c8829b-7a2e-4748-9cf6-a2ae6296f56a",
   "metadata": {},
   "outputs": [],
   "source": [
    "def filter_indexnews_links(urls):\n",
    "    return [url for url in urls if 'indexnews.php' not in url]"
   ]
  },
  {
   "cell_type": "code",
   "execution_count": 24,
   "id": "5385210d-0da2-4ddd-bca1-033bac5f86e8",
   "metadata": {},
   "outputs": [],
   "source": [
    "newUrls=filter_indexnews_links(urls)"
   ]
  },
  {
   "cell_type": "code",
   "execution_count": 26,
   "id": "ae367e4b-d34b-4b53-9b06-505f83a6da07",
   "metadata": {},
   "outputs": [
    {
     "data": {
      "text/plain": [
       "319"
      ]
     },
     "execution_count": 26,
     "metadata": {},
     "output_type": "execute_result"
    }
   ],
   "source": [
    "len(newUrls)"
   ]
  },
  {
   "cell_type": "code",
   "execution_count": 27,
   "id": "c6c1a97e-4a81-4ca6-b018-ff535b6fd6e9",
   "metadata": {},
   "outputs": [],
   "source": [
    "with open('links-umnews.txt', 'w') as file:\n",
    "    for item in newUrls:\n",
    "        file.write(f\"{item}\\n\")"
   ]
  },
  {
   "cell_type": "code",
   "execution_count": null,
   "id": "ae3b016f-562f-41f6-94eb-92fafef4eb60",
   "metadata": {},
   "outputs": [],
   "source": []
  }
 ],
 "metadata": {
  "kernelspec": {
   "display_name": "Python 3 (ipykernel)",
   "language": "python",
   "name": "python3"
  },
  "language_info": {
   "codemirror_mode": {
    "name": "ipython",
    "version": 3
   },
   "file_extension": ".py",
   "mimetype": "text/x-python",
   "name": "python",
   "nbconvert_exporter": "python",
   "pygments_lexer": "ipython3",
   "version": "3.11.4"
  }
 },
 "nbformat": 4,
 "nbformat_minor": 5
}
